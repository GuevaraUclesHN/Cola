{
  "nbformat": 4,
  "nbformat_minor": 0,
  "metadata": {
    "colab": {
      "name": "S1TeoriaComp.ipynb",
      "provenance": [],
      "collapsed_sections": [],
      "toc_visible": true,
      "authorship_tag": "ABX9TyMMN1vxPC9FfeG7jBKkXjgR",
      "include_colab_link": true
    },
    "kernelspec": {
      "name": "python3",
      "display_name": "Python 3"
    }
  },
  "cells": [
    {
      "cell_type": "markdown",
      "metadata": {
        "id": "view-in-github",
        "colab_type": "text"
      },
      "source": [
        "<a href=\"https://colab.research.google.com/github/GuevaraUclesHN/Cola/blob/master/S1TeoriaComp.ipynb\" target=\"_parent\"><img src=\"https://colab.research.google.com/assets/colab-badge.svg\" alt=\"Open In Colab\"/></a>"
      ]
    },
    {
      "cell_type": "markdown",
      "metadata": {
        "id": "JL0nipNnS6jX",
        "colab_type": "text"
      },
      "source": [
        "#ESCALARES\n",
        "\n",
        "*a* es un elemento\n",
        "\n",
        "*A* es un conjunto\n",
        "\n",
        "*a* pertenece a *A*\n",
        "\n",
        "*a* no pertenece a *A*\n",
        "\n",
        "*a* es un escalar\n",
        "\n",
        "*{a}* es un conjunto\n",
        "\n",
        "---\n",
        "\n"
      ]
    },
    {
      "cell_type": "code",
      "metadata": {
        "id": "uoIvx9fuRm8A",
        "colab_type": "code",
        "colab": {
          "base_uri": "https://localhost:8080/",
          "height": 248
        },
        "outputId": "ea4ff91c-fd2b-4b17-9abe-d9db487f6cfc"
      },
      "source": [
        "a = 10\n",
        "A=[1,2,3,10]\n",
        "\n",
        "print(a)\n",
        "print(A)\n",
        "\n",
        "a in A\n",
        "a not in A\n",
        "\n",
        "#a + {a}\n",
        "#TypeError: unsupported operand type(s) for +: 'int' and 'set'\n"
      ],
      "execution_count": null,
      "outputs": [
        {
          "output_type": "stream",
          "text": [
            "10\n",
            "[1, 2, 3, 10]\n"
          ],
          "name": "stdout"
        },
        {
          "output_type": "error",
          "ename": "TypeError",
          "evalue": "ignored",
          "traceback": [
            "\u001b[0;31m---------------------------------------------------------------------------\u001b[0m",
            "\u001b[0;31mTypeError\u001b[0m                                 Traceback (most recent call last)",
            "\u001b[0;32m<ipython-input-33-d98cc99aee34>\u001b[0m in \u001b[0;36m<module>\u001b[0;34m()\u001b[0m\n\u001b[1;32m      8\u001b[0m \u001b[0ma\u001b[0m \u001b[0;32mnot\u001b[0m \u001b[0;32min\u001b[0m \u001b[0mA\u001b[0m\u001b[0;34m\u001b[0m\u001b[0;34m\u001b[0m\u001b[0m\n\u001b[1;32m      9\u001b[0m \u001b[0;34m\u001b[0m\u001b[0m\n\u001b[0;32m---> 10\u001b[0;31m \u001b[0ma\u001b[0m \u001b[0;34m+\u001b[0m \u001b[0;34m{\u001b[0m\u001b[0ma\u001b[0m\u001b[0;34m}\u001b[0m\u001b[0;34m\u001b[0m\u001b[0;34m\u001b[0m\u001b[0m\n\u001b[0m\u001b[1;32m     11\u001b[0m \u001b[0;34m\u001b[0m\u001b[0m\n",
            "\u001b[0;31mTypeError\u001b[0m: unsupported operand type(s) for +: 'int' and 'set'"
          ]
        }
      ]
    },
    {
      "cell_type": "markdown",
      "metadata": {
        "id": "GBaLy2MQf7gT",
        "colab_type": "text"
      },
      "source": [
        "{{a,b}} distinto a {a,b}"
      ]
    },
    {
      "cell_type": "code",
      "metadata": {
        "id": "S2Qu-WQGf_vO",
        "colab_type": "code",
        "colab": {
          "base_uri": "https://localhost:8080/",
          "height": 34
        },
        "outputId": "976eb855-38af-457d-edf6-53c8b91aa68b"
      },
      "source": [
        "a=1\n",
        "b=2\n",
        "\n",
        "C=[a,b]\n",
        "A=[C]\n",
        "\n",
        "A==C\n",
        "\n",
        "\n"
      ],
      "execution_count": null,
      "outputs": [
        {
          "output_type": "execute_result",
          "data": {
            "text/plain": [
              "False"
            ]
          },
          "metadata": {
            "tags": []
          },
          "execution_count": 2
        }
      ]
    },
    {
      "cell_type": "markdown",
      "metadata": {
        "id": "qyVo_sgrZO58",
        "colab_type": "text"
      },
      "source": [
        "# SUBCONJUTOS\n",
        "\n",
        "*a* y *b*  son conjutos\n",
        "\n",
        "todos los elementos de *a* son elementos de *b*\n",
        "\n",
        "*a* es un subconjunto de b\n",
        "\n",
        "---"
      ]
    },
    {
      "cell_type": "code",
      "metadata": {
        "id": "ftZSoEE1ZhPM",
        "colab_type": "code",
        "colab": {
          "base_uri": "https://localhost:8080/",
          "height": 153
        },
        "outputId": "4cae3590-ada5-4509-8f73-2b6d2c4b0183"
      },
      "source": [
        "A = {1,\"hola\",3}\n",
        "B = {1,2,3,123,\"hola\"}\n",
        "C = {1,2,3,\"hola\",10,123}\n",
        "\n",
        "print('A es subconjunto de B: ')\n",
        "print((A.issubset(B)))\n",
        "\n",
        "print('\\nB es subconjunto  ')\n",
        "print(B <= C)\n",
        "\n",
        "print('\\nA es subconjunto  ')\n",
        "print((A.issubset(C)))"
      ],
      "execution_count": null,
      "outputs": [
        {
          "output_type": "stream",
          "text": [
            "A es subconjunto de B: \n",
            "True\n",
            "\n",
            "B es subconjunto  \n",
            "True\n",
            "\n",
            "A es subconjunto  \n",
            "True\n"
          ],
          "name": "stdout"
        }
      ]
    },
    {
      "cell_type": "markdown",
      "metadata": {
        "id": "b8B6Enqun9T2",
        "colab_type": "text"
      },
      "source": [
        "Ø es un conjunto vacio\n",
        "\n",
        "B es un conjunto vacio\n",
        "\n",
        "Ø es un subconjunto de B"
      ]
    },
    {
      "cell_type": "code",
      "metadata": {
        "id": "FtL6YE4ypE42",
        "colab_type": "code",
        "colab": {
          "base_uri": "https://localhost:8080/",
          "height": 34
        },
        "outputId": "b4fdc316-ef39-41ba-97a2-6586cd54e86e"
      },
      "source": [
        "Ø = set()\n",
        "B = set()\n",
        "\n",
        "Ø.issubset(B)"
      ],
      "execution_count": null,
      "outputs": [
        {
          "output_type": "execute_result",
          "data": {
            "text/plain": [
              "True"
            ]
          },
          "metadata": {
            "tags": []
          },
          "execution_count": 23
        }
      ]
    },
    {
      "cell_type": "markdown",
      "metadata": {
        "id": "rfmtnD5TnlbG",
        "colab_type": "text"
      },
      "source": [
        "\n",
        "#Conjunto Potencia\n",
        "\n",
        "A es un conjuto \n",
        "\n",
        "2^A es el conjuto potencia \n",
        "Conjunto potencia mostrara todos los subconjuntos posibles"
      ]
    },
    {
      "cell_type": "code",
      "metadata": {
        "id": "fk2-h0Tqnohh",
        "colab_type": "code",
        "colab": {
          "base_uri": "https://localhost:8080/",
          "height": 34
        },
        "outputId": "0ebe40c4-06d4-45c1-ba2a-8efc12b0710b"
      },
      "source": [
        "from sympy import FiniteSet\n",
        "C = FiniteSet(1, 2, 3)\n",
        "C.powerset()"
      ],
      "execution_count": null,
      "outputs": [
        {
          "output_type": "execute_result",
          "data": {
            "text/plain": [
              "{EmptySet(), {1}, {2}, {3}, {1, 2}, {1, 3}, {2, 3}, {1, 2, 3}}"
            ]
          },
          "metadata": {
            "tags": []
          },
          "execution_count": 5
        }
      ]
    },
    {
      "cell_type": "markdown",
      "metadata": {
        "id": "idP4DilR3m9f",
        "colab_type": "text"
      },
      "source": [
        "#Operaciones de Conjuntos\n",
        "\n"
      ]
    },
    {
      "cell_type": "code",
      "metadata": {
        "id": "GnqUalPR31b6",
        "colab_type": "code",
        "colab": {
          "base_uri": "https://localhost:8080/",
          "height": 51
        },
        "outputId": "1eed7d71-de96-414f-cab1-451a24ee873d"
      },
      "source": [
        "a = {2, 4, 5, 6}  \n",
        "b = {4, 6, 7, 8}  \n",
        "\n",
        "\n",
        "print(\"Union :\", a | b) \n",
        "\n",
        "\n",
        "print(\"Interseccion :\", a.intersection(b))"
      ],
      "execution_count": null,
      "outputs": [
        {
          "output_type": "stream",
          "text": [
            "Union : {2, 4, 5, 6, 7, 8}\n",
            "Interseccion : {4, 6}\n"
          ],
          "name": "stdout"
        }
      ]
    }
  ]
}